{
 "metadata": {
  "language_info": {
   "codemirror_mode": {
    "name": "ipython",
    "version": 3
   },
   "file_extension": ".py",
   "mimetype": "text/x-python",
   "name": "python",
   "nbconvert_exporter": "python",
   "pygments_lexer": "ipython3",
   "version": "3.8.2-final"
  },
  "orig_nbformat": 2,
  "kernelspec": {
   "name": "python_defaultSpec_1598486149855",
   "display_name": "Python 3.8.2 64-bit ('rotas': conda)"
  }
 },
 "nbformat": 4,
 "nbformat_minor": 2,
 "cells": [
  {
   "cell_type": "markdown",
   "metadata": {},
   "source": [
    "\n",
    "(done)     1 - ROUTE CALCULATION BETWEEN TWO COORDINATES:\n",
    "\n",
    "(not done) 2 - Pool of routes to consider joining many routes if they cross. \n",
    "*select close routes\n",
    "*join close routes\n",
    "*recalculate"
   ]
  },
  {
   "cell_type": "markdown",
   "metadata": {},
   "source": [
    "Easy part first, calculate routes with just two points; \n",
    "\n",
    "1.0 - Load coordinates of target and source.\n",
    "1.1 - Process the coordinates as a Shapely points instances.\n",
    "1.2 - Define a polygon containing the shapes.\n",
    "1.3 - Download the graph that contains that polygon. Predefined if its car or walkable route \n",
    "1.4 - Define best order of nodes in route\n",
    "1.5 - Plot in MapBox.\n",
    "\n",
    "The next steps are in the end of notebook.\n",
    "\n"
   ]
  },
  {
   "cell_type": "code",
   "execution_count": 1,
   "metadata": {},
   "outputs": [],
   "source": [
    "# 1.0 - Load coordinates of target and source\n",
    "\n",
    "\n",
    "#shapely manage polygons, lines and points in a geoespacial way\n",
    "import shapely\n",
    "\n",
    "#Representation of point located in earth\n",
    "from shapely.geometry import Point\n",
    "\n",
    "\"\"\" I choosed aleatory points of my city for test. You can put coordinates anywhere in the world (if its mapped by OpenStreetMaps) \"\"\"\n",
    "\n",
    "#the point the user is headed\n",
    "target =  {'type': 'Point',\n",
    "            'coordinates': [-22.8944985,-43.1131766], #first value is latitude, second longitude. It could be inverted, no problems.\n",
    "            'route_info': 'target',\n",
    "            'motion':'walk', #the types should be ‘walk’, ‘bike’, ‘drive’, ‘drive_service’, ‘all’, or ‘all_private’.\n",
    "            'extra_info1': 'user_id', \n",
    "            'extra_info2': 'anything you want'}\n",
    "\n",
    "#the point where the route start\n",
    "source = {'type': 'Point',\n",
    "            'coordinates': [-22.893526,-43.1110573], #first value is latitude, second longitude. It could be inverted, no problems.\n",
    "            'route_info': 'source',\n",
    "            'motion': 'walk', #the types should be ‘walk’, ‘bike’, ‘drive’, ‘drive_service’, ‘all’, or ‘all_private’.\n",
    "            'extra_info1': 'user_id', \n",
    "            'extra_info2': 'anything you want'}\n",
    "\n"
   ]
  },
  {
   "cell_type": "code",
   "execution_count": 2,
   "metadata": {
    "tags": []
   },
   "outputs": [
    {
     "output_type": "execute_result",
     "data": {
      "text/plain": "<Geographic 2D CRS: EPSG:4326>\nName: WGS 84\nAxis Info [ellipsoidal]:\n- Lat[north]: Geodetic latitude (degree)\n- Lon[east]: Geodetic longitude (degree)\nArea of Use:\n- name: World\n- bounds: (-180.0, -90.0, 180.0, 90.0)\nDatum: World Geodetic System 1984\n- Ellipsoid: WGS 84\n- Prime Meridian: Greenwich"
     },
     "metadata": {},
     "execution_count": 2
    }
   ],
   "source": [
    "#1.1 - Process the coordinates as a Shapely points instances.\n",
    "\n",
    "#Shapely point should take coordinates as a (LONGITUDE, latitude) tuple instance\n",
    "target_as_Point = Point(target['coordinates'][1], target['coordinates'][0])\n",
    "source_as_Point = Point(source['coordinates'][1], source['coordinates'][0])\n",
    "\n",
    "#Geopandas com manage geoespacial information.\n",
    "import geopandas as gpd\n",
    "\n",
    "#organize everything in a geodataframe called gdf. \n",
    "#crs is the coordinate system. usually is geographic wgs84 and has the code epsg = 4326\n",
    "gdf = gpd.GeoDataFrame([target,source], geometry = [target_as_Point, source_as_Point], crs = 4326)\n",
    "\n",
    "#just checking the coordinates\n",
    "gdf.crs"
   ]
  },
  {
   "cell_type": "code",
   "execution_count": 3,
   "metadata": {},
   "outputs": [
    {
     "output_type": "execute_result",
     "data": {
      "text/plain": "<shapely.geometry.polygon.Polygon at 0x17b9add8c70>",
      "image/svg+xml": "<svg xmlns=\"http://www.w3.org/2000/svg\" xmlns:xlink=\"http://www.w3.org/1999/xlink\" width=\"100.0\" height=\"100.0\" viewBox=\"-43.117578332724186 -22.898900232724188 0.010922765448370342 0.009775965448373114\" preserveAspectRatio=\"xMinYMin meet\"><g transform=\"matrix(1,0,0,-1,0,-45.788024500000006)\"><path fill-rule=\"evenodd\" fill=\"#66cc99\" stroke=\"#555555\" stroke-width=\"0.00021845530896740683\" opacity=\"0.6\" d=\"M -43.11272555485303,-22.88989049099226 L -43.112361179553346,-22.889744479391787 L -43.11198424718079,-22.889634885901955 L -43.11159838780017,-22.889562765967987 L -43.11120731744825,-22.889528814144274 L -43.11081480234628,-22.889533357405437 L -43.11042462262929,-22.88957635199738 L -43.11004053594124,-22.88965738385869 L -43.109666241246885,-22.88977567260824 L -43.10930534320875,-22.88993007906071 L -43.10896131747224,-22.89011911619756 L -43.108637477193255,-22.890340963487816 L -43.1083369411307,-22.8905934844208 L -43.10806260361117,-22.890874247081893 L -43.10781710665491,-22.891180547573178 L -43.10760281453185,-22.891509436053493 L -43.10742179099226,-22.891857745146975 L -43.107275779391784,-22.892222120446654 L -43.10716618590195,-22.892599052819204 L -43.107094065967985,-22.892984912199825 L -43.107060114144275,-22.893375982551753 L -43.10706465740543,-22.893768497653713 L -43.10710765199738,-22.894158677370708 L -43.10718868385869,-22.894542764058766 L -43.10730697260824,-22.894917058753116 L -43.10746137906071,-22.895277956791244 L -43.10765041619756,-22.895621982527757 L -43.10787226348781,-22.895945822806745 L -43.1081247844208,-22.896246358869295 L -43.10840554708189,-22.896520696388837 L -43.108711847573176,-22.896766193345083 L -43.10904073605349,-22.89698048546815 L -43.10938904514697,-22.89716150900774 L -43.11150834514697,-22.89813400900774 L -43.111872720446655,-22.898280020608215 L -43.11224965281921,-22.898389614098047 L -43.11263551219983,-22.898461734032015 L -43.113026582551754,-22.89849568585573 L -43.11341909765372,-22.898491142594565 L -43.11380927737071,-22.898448148002622 L -43.114193364058764,-22.898367116141312 L -43.11456765875312,-22.89824882739176 L -43.11492855679125,-22.89809442093929 L -43.11527258252776,-22.897905383802442 L -43.115596422806746,-22.897683536512186 L -43.1158969588693,-22.8974310155792 L -43.116171296388835,-22.89715025291811 L -43.11641679334509,-22.896843952426824 L -43.11663108546815,-22.89651506394651 L -43.11681210900774,-22.896166754853027 L -43.11695812060822,-22.89580237955335 L -43.11706771409805,-22.8954254471808 L -43.11713983403202,-22.895039587800177 L -43.11717378585573,-22.89464851744825 L -43.11716924259457,-22.89425600234629 L -43.11712624800262,-22.893865822629294 L -43.117045216141314,-22.893481735941236 L -43.11692692739176,-22.893107441246887 L -43.11677252093929,-22.89274654320876 L -43.116583483802444,-22.892402517472245 L -43.11636163651219,-22.892078677193258 L -43.1161091155792,-22.891778141130708 L -43.115828352918115,-22.891503803611165 L -43.115522052426826,-22.89125830665492 L -43.115193163946515,-22.891044014531854 L -43.11484485485303,-22.89086299099226 L -43.11272555485303,-22.88989049099226 z\" /></g></svg>"
     },
     "metadata": {},
     "execution_count": 3
    }
   ],
   "source": [
    "#1.2 - Define a polygon containing the shapes.\n",
    "\n",
    "#geodataframe as unique element\n",
    "unary = gdf.unary_union\n",
    "\n",
    "#Draw a polygon that countains that unique group of elements.\n",
    "pol = unary.convex_hull\n",
    "\n",
    "#Get the region around that polygon. 0.004 is the radius of the buffer.\n",
    "pol_buffed = pol.buffer(0.004)\n",
    "\n",
    "#just printing the area containing the points\n",
    "pol_buffed"
   ]
  },
  {
   "cell_type": "code",
   "execution_count": 20,
   "metadata": {},
   "outputs": [
    {
     "output_type": "execute_result",
     "data": {
      "text/plain": "\" If you need fast response you'll need to have the graph of all streets of the world in your server. Download big graphs is slow \""
     },
     "metadata": {},
     "execution_count": 20
    }
   ],
   "source": [
    "#1.3 - Download the graph that contains that polygon. Predefined if its car or walkable route \n",
    "#that library is the api of OpenStreetMap\n",
    "import osmnx as ox\n",
    "from osmnx import graph_from_polygon\n",
    "\n",
    "#Networkx is good library for Python management\n",
    "import networkx as nx\n",
    "\n",
    "#i'll bring the type of route by the \"motion\" column in geodataframe in variable gdf\n",
    "\n",
    "type_of_route = gdf.set_index('extra_info1').loc['user_id'].motion.unique()[0]\n",
    "\n",
    "#download the graph from open street map that is contained in that polygon\n",
    "graph = graph_from_polygon(pol_buffed, network_type=type_of_route, simplify=False, retain_all=True, truncate_by_edge=False, clean_periphery=False)\n",
    "\n",
    "\"\"\" If you need fast response you'll need to have the graph of all streets of the world in your server. Download big graphs is slow \"\"\""
   ]
  },
  {
   "cell_type": "code",
   "execution_count": 25,
   "metadata": {},
   "outputs": [],
   "source": [
    "#1.4 - Define best order of nodes in route\n",
    "import pandas as pd\n",
    "#find the closest node to our target and register the distance between then in the column 'target_distance'\n",
    "\n",
    "#coordinates as a (LATITUDE, longitude) tuple instance. \n",
    "gdf['coords_tuple'] = gdf.coordinates.map(tuple)\n",
    "\n",
    "#calculate all closest graph nodes and their distances in a series \"s_nodes_dist\"\n",
    "s_nodes_dist = pd.Series(gdf.coords_tuple.apply(lambda x: ox.get_nearest_node(graph, x, method='haversine', return_dist=True)))\n",
    "\n",
    "#organize the node id and distance from user coordinates in our geodataframe.\n",
    "gdf['node_id'] = s_nodes_dist.map(lambda x:x[0])\n",
    "gdf['node_distance_meters'] = s_nodes_dist.map(lambda x:x[1])\n",
    "\n",
    "#select the target and source nodes ids\n",
    "target_mask = gdf.route_info == 'target'\n",
    "source_mask = gdf.route_info == 'source'\n",
    "\n",
    "target_node_id = gdf[target_mask].node_id.item()\n",
    "source_node_id = gdf[source_mask].node_id.item()\n",
    "\n",
    "#this path variable has the ids of the nodes in the shortest path\n",
    "nodes_route_ordered = nx.shortest_path(graph, source = target_node_id, target = source_node_id, weight='length', method='dijkstra')\n",
    "\n",
    "#python can only store lists in dataframes if the type of column is string\n",
    "gdf['route_order'] = ''\n",
    "\n",
    "#mask to link the user id caller \"user_id\", could be his login or id number.\n",
    "mask_user_id = gdf[gdf.extra_info1=='user_id'].index[0]\n",
    "\n",
    "#storing the route linked with the user.\n",
    "gdf.at[mask_user_id, 'route_order'] = nodes_route_ordered\n",
    "\n",
    "#I selected target to explode without duplicates in next lines\n",
    "mask_gdf_subset = gdf.route_info == 'target' \n",
    "\n",
    "#I can't explode with geometry column\n",
    "df_route = pd.DataFrame(gdf[mask_gdf_subset].drop(columns = 'geometry'))\n",
    "\n",
    "#Explode!\n",
    "df_route = df_route.explode('route_order').reset_index().rename(columns = {'index':'gdf_index'})\n"
   ]
  },
  {
   "cell_type": "code",
   "execution_count": 26,
   "metadata": {},
   "outputs": [],
   "source": [
    "#1.5 - Plot in MapBox.\n",
    "\n",
    "\n",
    "#create separeted columns for latitude and longitude\n",
    "#first get graph coords\n",
    "nodes_proj = ox.graph_to_gdfs(graph, nodes=True, edges=False)\n",
    "df_route['lat'] = nodes_proj.loc[df_route.route_order].reset_index()['y']\n",
    "df_route['lon'] = nodes_proj.loc[df_route.route_order].reset_index()['x']\n",
    "\n",
    "\n",
    "#Just to create an ordered column\n",
    "df_route.reset_index(inplace = True)"
   ]
  },
  {
   "cell_type": "code",
   "execution_count": 18,
   "metadata": {},
   "outputs": [],
   "source": [
    "import plotly.express as px\n",
    "import plotly.graph_objects as go\n",
    "\n",
    "#please, use your token from MapBox\n",
    "token = ''\n",
    "\n",
    "px.set_mapbox_access_token(token)"
   ]
  },
  {
   "cell_type": "code",
   "execution_count": 32,
   "metadata": {},
   "outputs": [
    {
     "output_type": "execute_result",
     "data": {
      "text/plain": "Index(['index', 'gdf_index', 'type', 'coordinates', 'route_info', 'motion',\n       'extra_info1', 'extra_info2', 'coords_tuple', 'node_id',\n       'node_distance_meters', 'route_order', 'lat', 'lon'],\n      dtype='object')"
     },
     "metadata": {},
     "execution_count": 32
    }
   ],
   "source": [
    "#A look in the organized information about the nodes that compose the route, granting rastreability with route info.\n",
    "df_route.columns"
   ]
  },
  {
   "cell_type": "code",
   "execution_count": 34,
   "metadata": {
    "tags": []
   },
   "outputs": [
    {
     "output_type": "display_data",
     "data": {
      "application/vnd.plotly.v1+json": {
       "config": {
        "plotlyServerURL": "https://plot.ly"
       },
       "data": [
        {
         "hovertemplate": "<b>%{hovertext}</b><br><br>lat=%{lat}<br>lon=%{lon}<br>index=%{marker.color}<extra></extra>",
         "hovertext": [
          "user_id",
          "user_id",
          "user_id",
          "user_id",
          "user_id",
          "user_id",
          "user_id",
          "user_id",
          "user_id",
          "user_id",
          "user_id",
          "user_id",
          "user_id",
          "user_id",
          "user_id",
          "user_id",
          "user_id",
          "user_id",
          "user_id",
          "user_id",
          "user_id",
          "user_id",
          "user_id",
          "user_id",
          "user_id",
          "user_id",
          "user_id",
          "user_id",
          "user_id",
          "user_id"
         ],
         "lat": [
          -22.8943789,
          -22.8943374,
          -22.893878,
          -22.8937675,
          -22.8937764,
          -22.8937878,
          -22.893793,
          -22.8938102,
          -22.8938209,
          -22.8938441,
          -22.8938569,
          -22.8937426,
          -22.8935585,
          -22.8934654,
          -22.8931195,
          -22.8930861,
          -22.8930602,
          -22.8930478,
          -22.8930392,
          -22.893028,
          -22.8929934,
          -22.8929873,
          -22.8930046,
          -22.8930416,
          -22.8931726,
          -22.8932504,
          -22.8933097,
          -22.8933764,
          -22.8934617,
          -22.8937224
         ],
         "legendgroup": "",
         "lon": [
          -43.1134011,
          -43.1145299,
          -43.1145673,
          -43.114575,
          -43.1142864,
          -43.1139497,
          -43.1138066,
          -43.1136319,
          -43.1135626,
          -43.1134237,
          -43.1133319,
          -43.1133659,
          -43.113414,
          -43.1129721,
          -43.113129,
          -43.1131344,
          -43.1131263,
          -43.1131049,
          -43.1130539,
          -43.1129707,
          -43.1125282,
          -43.1123739,
          -43.1118576,
          -43.1113319,
          -43.1113507,
          -43.1113641,
          -43.1113641,
          -43.1113547,
          -43.1113279,
          -43.1112239
         ],
         "marker": {
          "color": [
           0,
           1,
           2,
           3,
           4,
           5,
           6,
           7,
           8,
           9,
           10,
           11,
           12,
           13,
           14,
           15,
           16,
           17,
           18,
           19,
           20,
           21,
           22,
           23,
           24,
           25,
           26,
           27,
           28,
           29
          ],
          "coloraxis": "coloraxis"
         },
         "mode": "markers",
         "name": "",
         "showlegend": false,
         "subplot": "mapbox",
         "type": "scattermapbox"
        },
        {
         "lat": [
          -22.8943789,
          -22.8943374,
          -22.893878,
          -22.8937675,
          -22.8937764,
          -22.8937878,
          -22.893793,
          -22.8938102,
          -22.8938209,
          -22.8938441,
          -22.8938569,
          -22.8937426,
          -22.8935585,
          -22.8934654,
          -22.8931195,
          -22.8930861,
          -22.8930602,
          -22.8930478,
          -22.8930392,
          -22.893028,
          -22.8929934,
          -22.8929873,
          -22.8930046,
          -22.8930416,
          -22.8931726,
          -22.8932504,
          -22.8933097,
          -22.8933764,
          -22.8934617,
          -22.8937224
         ],
         "lon": [
          -43.1134011,
          -43.1145299,
          -43.1145673,
          -43.114575,
          -43.1142864,
          -43.1139497,
          -43.1138066,
          -43.1136319,
          -43.1135626,
          -43.1134237,
          -43.1133319,
          -43.1133659,
          -43.113414,
          -43.1129721,
          -43.113129,
          -43.1131344,
          -43.1131263,
          -43.1131049,
          -43.1130539,
          -43.1129707,
          -43.1125282,
          -43.1123739,
          -43.1118576,
          -43.1113319,
          -43.1113507,
          -43.1113641,
          -43.1113641,
          -43.1113547,
          -43.1113279,
          -43.1112239
         ],
         "marker": {
          "size": 6
         },
         "mode": "lines",
         "name": "Draw of Route",
         "type": "scattermapbox"
        }
       ],
       "layout": {
        "coloraxis": {
         "colorbar": {
          "title": {
           "text": "Route ordinal order"
          }
         },
         "colorscale": [
          [
           0,
           "#440154"
          ],
          [
           0.1111111111111111,
           "#482878"
          ],
          [
           0.2222222222222222,
           "#3e4989"
          ],
          [
           0.3333333333333333,
           "#31688e"
          ],
          [
           0.4444444444444444,
           "#26828e"
          ],
          [
           0.5555555555555556,
           "#1f9e89"
          ],
          [
           0.6666666666666666,
           "#35b779"
          ],
          [
           0.7777777777777778,
           "#6ece58"
          ],
          [
           0.8888888888888888,
           "#b5de2b"
          ],
          [
           1,
           "#fde725"
          ]
         ]
        },
        "legend": {
         "tracegroupgap": 0,
         "x": 0.01,
         "xanchor": "left",
         "y": 0.99,
         "yanchor": "top"
        },
        "mapbox": {
         "accesstoken": "pk.eyJ1IjoiZmVsaXBlZm0iLCJhIjoiY2tjNmdqcGxyMDE4ZDJ0bGN3bWl1b2JvbSJ9.TUlAaJ4NABxj9h4ZjpGxQg",
         "center": {
          "lat": -22.89348395,
          "lon": -43.11291381
         },
         "domain": {
          "x": [
           0,
           1
          ],
          "y": [
           0,
           1
          ]
         },
         "layers": [
          {
           "below": "traces"
          }
         ],
         "style": "streets",
         "zoom": 11
        },
        "template": {
         "data": {
          "bar": [
           {
            "error_x": {
             "color": "#2a3f5f"
            },
            "error_y": {
             "color": "#2a3f5f"
            },
            "marker": {
             "line": {
              "color": "#E5ECF6",
              "width": 0.5
             }
            },
            "type": "bar"
           }
          ],
          "barpolar": [
           {
            "marker": {
             "line": {
              "color": "#E5ECF6",
              "width": 0.5
             }
            },
            "type": "barpolar"
           }
          ],
          "carpet": [
           {
            "aaxis": {
             "endlinecolor": "#2a3f5f",
             "gridcolor": "white",
             "linecolor": "white",
             "minorgridcolor": "white",
             "startlinecolor": "#2a3f5f"
            },
            "baxis": {
             "endlinecolor": "#2a3f5f",
             "gridcolor": "white",
             "linecolor": "white",
             "minorgridcolor": "white",
             "startlinecolor": "#2a3f5f"
            },
            "type": "carpet"
           }
          ],
          "choropleth": [
           {
            "colorbar": {
             "outlinewidth": 0,
             "ticks": ""
            },
            "type": "choropleth"
           }
          ],
          "contour": [
           {
            "colorbar": {
             "outlinewidth": 0,
             "ticks": ""
            },
            "colorscale": [
             [
              0,
              "#0d0887"
             ],
             [
              0.1111111111111111,
              "#46039f"
             ],
             [
              0.2222222222222222,
              "#7201a8"
             ],
             [
              0.3333333333333333,
              "#9c179e"
             ],
             [
              0.4444444444444444,
              "#bd3786"
             ],
             [
              0.5555555555555556,
              "#d8576b"
             ],
             [
              0.6666666666666666,
              "#ed7953"
             ],
             [
              0.7777777777777778,
              "#fb9f3a"
             ],
             [
              0.8888888888888888,
              "#fdca26"
             ],
             [
              1,
              "#f0f921"
             ]
            ],
            "type": "contour"
           }
          ],
          "contourcarpet": [
           {
            "colorbar": {
             "outlinewidth": 0,
             "ticks": ""
            },
            "type": "contourcarpet"
           }
          ],
          "heatmap": [
           {
            "colorbar": {
             "outlinewidth": 0,
             "ticks": ""
            },
            "colorscale": [
             [
              0,
              "#0d0887"
             ],
             [
              0.1111111111111111,
              "#46039f"
             ],
             [
              0.2222222222222222,
              "#7201a8"
             ],
             [
              0.3333333333333333,
              "#9c179e"
             ],
             [
              0.4444444444444444,
              "#bd3786"
             ],
             [
              0.5555555555555556,
              "#d8576b"
             ],
             [
              0.6666666666666666,
              "#ed7953"
             ],
             [
              0.7777777777777778,
              "#fb9f3a"
             ],
             [
              0.8888888888888888,
              "#fdca26"
             ],
             [
              1,
              "#f0f921"
             ]
            ],
            "type": "heatmap"
           }
          ],
          "heatmapgl": [
           {
            "colorbar": {
             "outlinewidth": 0,
             "ticks": ""
            },
            "colorscale": [
             [
              0,
              "#0d0887"
             ],
             [
              0.1111111111111111,
              "#46039f"
             ],
             [
              0.2222222222222222,
              "#7201a8"
             ],
             [
              0.3333333333333333,
              "#9c179e"
             ],
             [
              0.4444444444444444,
              "#bd3786"
             ],
             [
              0.5555555555555556,
              "#d8576b"
             ],
             [
              0.6666666666666666,
              "#ed7953"
             ],
             [
              0.7777777777777778,
              "#fb9f3a"
             ],
             [
              0.8888888888888888,
              "#fdca26"
             ],
             [
              1,
              "#f0f921"
             ]
            ],
            "type": "heatmapgl"
           }
          ],
          "histogram": [
           {
            "marker": {
             "colorbar": {
              "outlinewidth": 0,
              "ticks": ""
             }
            },
            "type": "histogram"
           }
          ],
          "histogram2d": [
           {
            "colorbar": {
             "outlinewidth": 0,
             "ticks": ""
            },
            "colorscale": [
             [
              0,
              "#0d0887"
             ],
             [
              0.1111111111111111,
              "#46039f"
             ],
             [
              0.2222222222222222,
              "#7201a8"
             ],
             [
              0.3333333333333333,
              "#9c179e"
             ],
             [
              0.4444444444444444,
              "#bd3786"
             ],
             [
              0.5555555555555556,
              "#d8576b"
             ],
             [
              0.6666666666666666,
              "#ed7953"
             ],
             [
              0.7777777777777778,
              "#fb9f3a"
             ],
             [
              0.8888888888888888,
              "#fdca26"
             ],
             [
              1,
              "#f0f921"
             ]
            ],
            "type": "histogram2d"
           }
          ],
          "histogram2dcontour": [
           {
            "colorbar": {
             "outlinewidth": 0,
             "ticks": ""
            },
            "colorscale": [
             [
              0,
              "#0d0887"
             ],
             [
              0.1111111111111111,
              "#46039f"
             ],
             [
              0.2222222222222222,
              "#7201a8"
             ],
             [
              0.3333333333333333,
              "#9c179e"
             ],
             [
              0.4444444444444444,
              "#bd3786"
             ],
             [
              0.5555555555555556,
              "#d8576b"
             ],
             [
              0.6666666666666666,
              "#ed7953"
             ],
             [
              0.7777777777777778,
              "#fb9f3a"
             ],
             [
              0.8888888888888888,
              "#fdca26"
             ],
             [
              1,
              "#f0f921"
             ]
            ],
            "type": "histogram2dcontour"
           }
          ],
          "mesh3d": [
           {
            "colorbar": {
             "outlinewidth": 0,
             "ticks": ""
            },
            "type": "mesh3d"
           }
          ],
          "parcoords": [
           {
            "line": {
             "colorbar": {
              "outlinewidth": 0,
              "ticks": ""
             }
            },
            "type": "parcoords"
           }
          ],
          "pie": [
           {
            "automargin": true,
            "type": "pie"
           }
          ],
          "scatter": [
           {
            "marker": {
             "colorbar": {
              "outlinewidth": 0,
              "ticks": ""
             }
            },
            "type": "scatter"
           }
          ],
          "scatter3d": [
           {
            "line": {
             "colorbar": {
              "outlinewidth": 0,
              "ticks": ""
             }
            },
            "marker": {
             "colorbar": {
              "outlinewidth": 0,
              "ticks": ""
             }
            },
            "type": "scatter3d"
           }
          ],
          "scattercarpet": [
           {
            "marker": {
             "colorbar": {
              "outlinewidth": 0,
              "ticks": ""
             }
            },
            "type": "scattercarpet"
           }
          ],
          "scattergeo": [
           {
            "marker": {
             "colorbar": {
              "outlinewidth": 0,
              "ticks": ""
             }
            },
            "type": "scattergeo"
           }
          ],
          "scattergl": [
           {
            "marker": {
             "colorbar": {
              "outlinewidth": 0,
              "ticks": ""
             }
            },
            "type": "scattergl"
           }
          ],
          "scattermapbox": [
           {
            "marker": {
             "colorbar": {
              "outlinewidth": 0,
              "ticks": ""
             }
            },
            "type": "scattermapbox"
           }
          ],
          "scatterpolar": [
           {
            "marker": {
             "colorbar": {
              "outlinewidth": 0,
              "ticks": ""
             }
            },
            "type": "scatterpolar"
           }
          ],
          "scatterpolargl": [
           {
            "marker": {
             "colorbar": {
              "outlinewidth": 0,
              "ticks": ""
             }
            },
            "type": "scatterpolargl"
           }
          ],
          "scatterternary": [
           {
            "marker": {
             "colorbar": {
              "outlinewidth": 0,
              "ticks": ""
             }
            },
            "type": "scatterternary"
           }
          ],
          "surface": [
           {
            "colorbar": {
             "outlinewidth": 0,
             "ticks": ""
            },
            "colorscale": [
             [
              0,
              "#0d0887"
             ],
             [
              0.1111111111111111,
              "#46039f"
             ],
             [
              0.2222222222222222,
              "#7201a8"
             ],
             [
              0.3333333333333333,
              "#9c179e"
             ],
             [
              0.4444444444444444,
              "#bd3786"
             ],
             [
              0.5555555555555556,
              "#d8576b"
             ],
             [
              0.6666666666666666,
              "#ed7953"
             ],
             [
              0.7777777777777778,
              "#fb9f3a"
             ],
             [
              0.8888888888888888,
              "#fdca26"
             ],
             [
              1,
              "#f0f921"
             ]
            ],
            "type": "surface"
           }
          ],
          "table": [
           {
            "cells": {
             "fill": {
              "color": "#EBF0F8"
             },
             "line": {
              "color": "white"
             }
            },
            "header": {
             "fill": {
              "color": "#C8D4E3"
             },
             "line": {
              "color": "white"
             }
            },
            "type": "table"
           }
          ]
         },
         "layout": {
          "annotationdefaults": {
           "arrowcolor": "#2a3f5f",
           "arrowhead": 0,
           "arrowwidth": 1
          },
          "coloraxis": {
           "colorbar": {
            "outlinewidth": 0,
            "ticks": ""
           }
          },
          "colorscale": {
           "diverging": [
            [
             0,
             "#8e0152"
            ],
            [
             0.1,
             "#c51b7d"
            ],
            [
             0.2,
             "#de77ae"
            ],
            [
             0.3,
             "#f1b6da"
            ],
            [
             0.4,
             "#fde0ef"
            ],
            [
             0.5,
             "#f7f7f7"
            ],
            [
             0.6,
             "#e6f5d0"
            ],
            [
             0.7,
             "#b8e186"
            ],
            [
             0.8,
             "#7fbc41"
            ],
            [
             0.9,
             "#4d9221"
            ],
            [
             1,
             "#276419"
            ]
           ],
           "sequential": [
            [
             0,
             "#0d0887"
            ],
            [
             0.1111111111111111,
             "#46039f"
            ],
            [
             0.2222222222222222,
             "#7201a8"
            ],
            [
             0.3333333333333333,
             "#9c179e"
            ],
            [
             0.4444444444444444,
             "#bd3786"
            ],
            [
             0.5555555555555556,
             "#d8576b"
            ],
            [
             0.6666666666666666,
             "#ed7953"
            ],
            [
             0.7777777777777778,
             "#fb9f3a"
            ],
            [
             0.8888888888888888,
             "#fdca26"
            ],
            [
             1,
             "#f0f921"
            ]
           ],
           "sequentialminus": [
            [
             0,
             "#0d0887"
            ],
            [
             0.1111111111111111,
             "#46039f"
            ],
            [
             0.2222222222222222,
             "#7201a8"
            ],
            [
             0.3333333333333333,
             "#9c179e"
            ],
            [
             0.4444444444444444,
             "#bd3786"
            ],
            [
             0.5555555555555556,
             "#d8576b"
            ],
            [
             0.6666666666666666,
             "#ed7953"
            ],
            [
             0.7777777777777778,
             "#fb9f3a"
            ],
            [
             0.8888888888888888,
             "#fdca26"
            ],
            [
             1,
             "#f0f921"
            ]
           ]
          },
          "colorway": [
           "#636efa",
           "#EF553B",
           "#00cc96",
           "#ab63fa",
           "#FFA15A",
           "#19d3f3",
           "#FF6692",
           "#B6E880",
           "#FF97FF",
           "#FECB52"
          ],
          "font": {
           "color": "#2a3f5f"
          },
          "geo": {
           "bgcolor": "white",
           "lakecolor": "white",
           "landcolor": "#E5ECF6",
           "showlakes": true,
           "showland": true,
           "subunitcolor": "white"
          },
          "hoverlabel": {
           "align": "left"
          },
          "hovermode": "closest",
          "mapbox": {
           "style": "light"
          },
          "paper_bgcolor": "white",
          "plot_bgcolor": "#E5ECF6",
          "polar": {
           "angularaxis": {
            "gridcolor": "white",
            "linecolor": "white",
            "ticks": ""
           },
           "bgcolor": "#E5ECF6",
           "radialaxis": {
            "gridcolor": "white",
            "linecolor": "white",
            "ticks": ""
           }
          },
          "scene": {
           "xaxis": {
            "backgroundcolor": "#E5ECF6",
            "gridcolor": "white",
            "gridwidth": 2,
            "linecolor": "white",
            "showbackground": true,
            "ticks": "",
            "zerolinecolor": "white"
           },
           "yaxis": {
            "backgroundcolor": "#E5ECF6",
            "gridcolor": "white",
            "gridwidth": 2,
            "linecolor": "white",
            "showbackground": true,
            "ticks": "",
            "zerolinecolor": "white"
           },
           "zaxis": {
            "backgroundcolor": "#E5ECF6",
            "gridcolor": "white",
            "gridwidth": 2,
            "linecolor": "white",
            "showbackground": true,
            "ticks": "",
            "zerolinecolor": "white"
           }
          },
          "shapedefaults": {
           "line": {
            "color": "#2a3f5f"
           }
          },
          "ternary": {
           "aaxis": {
            "gridcolor": "white",
            "linecolor": "white",
            "ticks": ""
           },
           "baxis": {
            "gridcolor": "white",
            "linecolor": "white",
            "ticks": ""
           },
           "bgcolor": "#E5ECF6",
           "caxis": {
            "gridcolor": "white",
            "linecolor": "white",
            "ticks": ""
           }
          },
          "title": {
           "x": 0.05
          },
          "xaxis": {
           "automargin": true,
           "gridcolor": "white",
           "linecolor": "white",
           "ticks": "",
           "title": {
            "standoff": 15
           },
           "zerolinecolor": "white",
           "zerolinewidth": 2
          },
          "yaxis": {
           "automargin": true,
           "gridcolor": "white",
           "linecolor": "white",
           "ticks": "",
           "title": {
            "standoff": 15
           },
           "zerolinecolor": "white",
           "zerolinewidth": 2
          }
         }
        },
        "title": {
         "text": "Test Simple Route"
        }
       }
      }
     },
     "metadata": {}
    }
   ],
   "source": [
    "px.set_mapbox_access_token(token)\n",
    "\n",
    "#pontos da rota do grafo dos vertices\n",
    "fig = px.scatter_mapbox(df_route, lat=\"lat\", lon=\"lon\", color=\"index\", hover_name = \"extra_info1\", title = \"Test Simple Route\", color_continuous_scale=px.colors.sequential.Viridis, size_max=15, zoom=11)\n",
    "\n",
    "#linha do mapa ,a partir dos nós ligados da subrota expandida\n",
    "fig.add_trace(go.Scattermapbox(\n",
    "    name = 'Draw of Route',\n",
    "    mode = \"lines\",\n",
    "    lon = df_route['lon'].to_list(),\n",
    "    lat = df_route['lat'].to_list(),\n",
    "    marker = {'size': 6}))\n",
    "\n",
    "fig.update_layout(\n",
    "    mapbox_style=\"streets\",\n",
    "    mapbox_layers=[\n",
    "        {\"below\": 'traces'}],\n",
    "    legend=dict(\n",
    "        yanchor=\"top\",\n",
    "        y=0.99,\n",
    "        xanchor=\"left\",\n",
    "        x=0.01\n",
    "    )\n",
    ")\n",
    "\n",
    "fig.layout.coloraxis.colorbar.title.text = \"Route ordinal order\"\n",
    "\n",
    "fig.show()"
   ]
  },
  {
   "cell_type": "code",
   "execution_count": 20,
   "metadata": {},
   "outputs": [
    {
     "output_type": "display_data",
     "data": {
      "application/vnd.plotly.v1+json": {
       "config": {
        "plotlyServerURL": "https://plot.ly"
       },
       "data": [
        {
         "hovertemplate": "<b>%{hovertext}</b><br><br>lat=%{lat}<br>lon=%{lon}<br>index=%{marker.color}<extra></extra>",
         "hovertext": [
          "anything you want",
          "anything you want",
          "anything you want",
          "anything you want",
          "anything you want",
          "anything you want",
          "anything you want",
          "anything you want",
          "anything you want",
          "anything you want",
          "anything you want",
          "anything you want",
          "anything you want",
          "anything you want",
          "anything you want",
          "anything you want",
          "anything you want",
          "anything you want",
          "anything you want",
          "anything you want",
          "anything you want",
          "anything you want",
          "anything you want",
          "anything you want",
          "anything you want",
          "anything you want",
          "anything you want",
          "anything you want",
          "anything you want",
          "anything you want"
         ],
         "lat": [
          -22.8943789,
          -22.8943374,
          -22.893878,
          -22.8937675,
          -22.8937764,
          -22.8937878,
          -22.893793,
          -22.8938102,
          -22.8938209,
          -22.8938441,
          -22.8938569,
          -22.8937426,
          -22.8935585,
          -22.8934654,
          -22.8931195,
          -22.8930861,
          -22.8930602,
          -22.8930478,
          -22.8930392,
          -22.893028,
          -22.8929934,
          -22.8929873,
          -22.8930046,
          -22.8930416,
          -22.8931726,
          -22.8932504,
          -22.8933097,
          -22.8933764,
          -22.8934617,
          -22.8937224
         ],
         "legendgroup": "",
         "lon": [
          -43.1134011,
          -43.1145299,
          -43.1145673,
          -43.114575,
          -43.1142864,
          -43.1139497,
          -43.1138066,
          -43.1136319,
          -43.1135626,
          -43.1134237,
          -43.1133319,
          -43.1133659,
          -43.113414,
          -43.1129721,
          -43.113129,
          -43.1131344,
          -43.1131263,
          -43.1131049,
          -43.1130539,
          -43.1129707,
          -43.1125282,
          -43.1123739,
          -43.1118576,
          -43.1113319,
          -43.1113507,
          -43.1113641,
          -43.1113641,
          -43.1113547,
          -43.1113279,
          -43.1112239
         ],
         "marker": {
          "color": [
           0,
           1,
           2,
           3,
           4,
           5,
           6,
           7,
           8,
           9,
           10,
           11,
           12,
           13,
           14,
           15,
           16,
           17,
           18,
           19,
           20,
           21,
           22,
           23,
           24,
           25,
           26,
           27,
           28,
           29
          ],
          "coloraxis": "coloraxis"
         },
         "mode": "markers",
         "name": "",
         "showlegend": false,
         "subplot": "mapbox",
         "type": "scattermapbox"
        },
        {
         "lat": [
          -22.8943789,
          -22.8943374,
          -22.893878,
          -22.8937675,
          -22.8937764,
          -22.8937878,
          -22.893793,
          -22.8938102,
          -22.8938209,
          -22.8938441,
          -22.8938569,
          -22.8937426,
          -22.8935585,
          -22.8934654,
          -22.8931195,
          -22.8930861,
          -22.8930602,
          -22.8930478,
          -22.8930392,
          -22.893028,
          -22.8929934,
          -22.8929873,
          -22.8930046,
          -22.8930416,
          -22.8931726,
          -22.8932504,
          -22.8933097,
          -22.8933764,
          -22.8934617,
          -22.8937224
         ],
         "lon": [
          -43.1134011,
          -43.1145299,
          -43.1145673,
          -43.114575,
          -43.1142864,
          -43.1139497,
          -43.1138066,
          -43.1136319,
          -43.1135626,
          -43.1134237,
          -43.1133319,
          -43.1133659,
          -43.113414,
          -43.1129721,
          -43.113129,
          -43.1131344,
          -43.1131263,
          -43.1131049,
          -43.1130539,
          -43.1129707,
          -43.1125282,
          -43.1123739,
          -43.1118576,
          -43.1113319,
          -43.1113507,
          -43.1113641,
          -43.1113641,
          -43.1113547,
          -43.1113279,
          -43.1112239
         ],
         "marker": {
          "size": 6
         },
         "mode": "lines",
         "name": "Route",
         "type": "scattermapbox"
        }
       ],
       "layout": {
        "coloraxis": {
         "colorbar": {
          "title": {
           "text": "Route Sequence"
          }
         },
         "colorscale": [
          [
           0,
           "#440154"
          ],
          [
           0.1111111111111111,
           "#482878"
          ],
          [
           0.2222222222222222,
           "#3e4989"
          ],
          [
           0.3333333333333333,
           "#31688e"
          ],
          [
           0.4444444444444444,
           "#26828e"
          ],
          [
           0.5555555555555556,
           "#1f9e89"
          ],
          [
           0.6666666666666666,
           "#35b779"
          ],
          [
           0.7777777777777778,
           "#6ece58"
          ],
          [
           0.8888888888888888,
           "#b5de2b"
          ],
          [
           1,
           "#fde725"
          ]
         ]
        },
        "legend": {
         "tracegroupgap": 0,
         "x": 0.01,
         "xanchor": "left",
         "y": 0.99,
         "yanchor": "top"
        },
        "mapbox": {
         "center": {
          "lat": -22.89348395,
          "lon": -43.11291381
         },
         "domain": {
          "x": [
           0,
           1
          ],
          "y": [
           0,
           1
          ]
         },
         "layers": [
          {
           "below": "traces"
          }
         ],
         "style": "streets",
         "zoom": 11
        },
        "template": {
         "data": {
          "bar": [
           {
            "error_x": {
             "color": "#2a3f5f"
            },
            "error_y": {
             "color": "#2a3f5f"
            },
            "marker": {
             "line": {
              "color": "#E5ECF6",
              "width": 0.5
             }
            },
            "type": "bar"
           }
          ],
          "barpolar": [
           {
            "marker": {
             "line": {
              "color": "#E5ECF6",
              "width": 0.5
             }
            },
            "type": "barpolar"
           }
          ],
          "carpet": [
           {
            "aaxis": {
             "endlinecolor": "#2a3f5f",
             "gridcolor": "white",
             "linecolor": "white",
             "minorgridcolor": "white",
             "startlinecolor": "#2a3f5f"
            },
            "baxis": {
             "endlinecolor": "#2a3f5f",
             "gridcolor": "white",
             "linecolor": "white",
             "minorgridcolor": "white",
             "startlinecolor": "#2a3f5f"
            },
            "type": "carpet"
           }
          ],
          "choropleth": [
           {
            "colorbar": {
             "outlinewidth": 0,
             "ticks": ""
            },
            "type": "choropleth"
           }
          ],
          "contour": [
           {
            "colorbar": {
             "outlinewidth": 0,
             "ticks": ""
            },
            "colorscale": [
             [
              0,
              "#0d0887"
             ],
             [
              0.1111111111111111,
              "#46039f"
             ],
             [
              0.2222222222222222,
              "#7201a8"
             ],
             [
              0.3333333333333333,
              "#9c179e"
             ],
             [
              0.4444444444444444,
              "#bd3786"
             ],
             [
              0.5555555555555556,
              "#d8576b"
             ],
             [
              0.6666666666666666,
              "#ed7953"
             ],
             [
              0.7777777777777778,
              "#fb9f3a"
             ],
             [
              0.8888888888888888,
              "#fdca26"
             ],
             [
              1,
              "#f0f921"
             ]
            ],
            "type": "contour"
           }
          ],
          "contourcarpet": [
           {
            "colorbar": {
             "outlinewidth": 0,
             "ticks": ""
            },
            "type": "contourcarpet"
           }
          ],
          "heatmap": [
           {
            "colorbar": {
             "outlinewidth": 0,
             "ticks": ""
            },
            "colorscale": [
             [
              0,
              "#0d0887"
             ],
             [
              0.1111111111111111,
              "#46039f"
             ],
             [
              0.2222222222222222,
              "#7201a8"
             ],
             [
              0.3333333333333333,
              "#9c179e"
             ],
             [
              0.4444444444444444,
              "#bd3786"
             ],
             [
              0.5555555555555556,
              "#d8576b"
             ],
             [
              0.6666666666666666,
              "#ed7953"
             ],
             [
              0.7777777777777778,
              "#fb9f3a"
             ],
             [
              0.8888888888888888,
              "#fdca26"
             ],
             [
              1,
              "#f0f921"
             ]
            ],
            "type": "heatmap"
           }
          ],
          "heatmapgl": [
           {
            "colorbar": {
             "outlinewidth": 0,
             "ticks": ""
            },
            "colorscale": [
             [
              0,
              "#0d0887"
             ],
             [
              0.1111111111111111,
              "#46039f"
             ],
             [
              0.2222222222222222,
              "#7201a8"
             ],
             [
              0.3333333333333333,
              "#9c179e"
             ],
             [
              0.4444444444444444,
              "#bd3786"
             ],
             [
              0.5555555555555556,
              "#d8576b"
             ],
             [
              0.6666666666666666,
              "#ed7953"
             ],
             [
              0.7777777777777778,
              "#fb9f3a"
             ],
             [
              0.8888888888888888,
              "#fdca26"
             ],
             [
              1,
              "#f0f921"
             ]
            ],
            "type": "heatmapgl"
           }
          ],
          "histogram": [
           {
            "marker": {
             "colorbar": {
              "outlinewidth": 0,
              "ticks": ""
             }
            },
            "type": "histogram"
           }
          ],
          "histogram2d": [
           {
            "colorbar": {
             "outlinewidth": 0,
             "ticks": ""
            },
            "colorscale": [
             [
              0,
              "#0d0887"
             ],
             [
              0.1111111111111111,
              "#46039f"
             ],
             [
              0.2222222222222222,
              "#7201a8"
             ],
             [
              0.3333333333333333,
              "#9c179e"
             ],
             [
              0.4444444444444444,
              "#bd3786"
             ],
             [
              0.5555555555555556,
              "#d8576b"
             ],
             [
              0.6666666666666666,
              "#ed7953"
             ],
             [
              0.7777777777777778,
              "#fb9f3a"
             ],
             [
              0.8888888888888888,
              "#fdca26"
             ],
             [
              1,
              "#f0f921"
             ]
            ],
            "type": "histogram2d"
           }
          ],
          "histogram2dcontour": [
           {
            "colorbar": {
             "outlinewidth": 0,
             "ticks": ""
            },
            "colorscale": [
             [
              0,
              "#0d0887"
             ],
             [
              0.1111111111111111,
              "#46039f"
             ],
             [
              0.2222222222222222,
              "#7201a8"
             ],
             [
              0.3333333333333333,
              "#9c179e"
             ],
             [
              0.4444444444444444,
              "#bd3786"
             ],
             [
              0.5555555555555556,
              "#d8576b"
             ],
             [
              0.6666666666666666,
              "#ed7953"
             ],
             [
              0.7777777777777778,
              "#fb9f3a"
             ],
             [
              0.8888888888888888,
              "#fdca26"
             ],
             [
              1,
              "#f0f921"
             ]
            ],
            "type": "histogram2dcontour"
           }
          ],
          "mesh3d": [
           {
            "colorbar": {
             "outlinewidth": 0,
             "ticks": ""
            },
            "type": "mesh3d"
           }
          ],
          "parcoords": [
           {
            "line": {
             "colorbar": {
              "outlinewidth": 0,
              "ticks": ""
             }
            },
            "type": "parcoords"
           }
          ],
          "pie": [
           {
            "automargin": true,
            "type": "pie"
           }
          ],
          "scatter": [
           {
            "marker": {
             "colorbar": {
              "outlinewidth": 0,
              "ticks": ""
             }
            },
            "type": "scatter"
           }
          ],
          "scatter3d": [
           {
            "line": {
             "colorbar": {
              "outlinewidth": 0,
              "ticks": ""
             }
            },
            "marker": {
             "colorbar": {
              "outlinewidth": 0,
              "ticks": ""
             }
            },
            "type": "scatter3d"
           }
          ],
          "scattercarpet": [
           {
            "marker": {
             "colorbar": {
              "outlinewidth": 0,
              "ticks": ""
             }
            },
            "type": "scattercarpet"
           }
          ],
          "scattergeo": [
           {
            "marker": {
             "colorbar": {
              "outlinewidth": 0,
              "ticks": ""
             }
            },
            "type": "scattergeo"
           }
          ],
          "scattergl": [
           {
            "marker": {
             "colorbar": {
              "outlinewidth": 0,
              "ticks": ""
             }
            },
            "type": "scattergl"
           }
          ],
          "scattermapbox": [
           {
            "marker": {
             "colorbar": {
              "outlinewidth": 0,
              "ticks": ""
             }
            },
            "type": "scattermapbox"
           }
          ],
          "scatterpolar": [
           {
            "marker": {
             "colorbar": {
              "outlinewidth": 0,
              "ticks": ""
             }
            },
            "type": "scatterpolar"
           }
          ],
          "scatterpolargl": [
           {
            "marker": {
             "colorbar": {
              "outlinewidth": 0,
              "ticks": ""
             }
            },
            "type": "scatterpolargl"
           }
          ],
          "scatterternary": [
           {
            "marker": {
             "colorbar": {
              "outlinewidth": 0,
              "ticks": ""
             }
            },
            "type": "scatterternary"
           }
          ],
          "surface": [
           {
            "colorbar": {
             "outlinewidth": 0,
             "ticks": ""
            },
            "colorscale": [
             [
              0,
              "#0d0887"
             ],
             [
              0.1111111111111111,
              "#46039f"
             ],
             [
              0.2222222222222222,
              "#7201a8"
             ],
             [
              0.3333333333333333,
              "#9c179e"
             ],
             [
              0.4444444444444444,
              "#bd3786"
             ],
             [
              0.5555555555555556,
              "#d8576b"
             ],
             [
              0.6666666666666666,
              "#ed7953"
             ],
             [
              0.7777777777777778,
              "#fb9f3a"
             ],
             [
              0.8888888888888888,
              "#fdca26"
             ],
             [
              1,
              "#f0f921"
             ]
            ],
            "type": "surface"
           }
          ],
          "table": [
           {
            "cells": {
             "fill": {
              "color": "#EBF0F8"
             },
             "line": {
              "color": "white"
             }
            },
            "header": {
             "fill": {
              "color": "#C8D4E3"
             },
             "line": {
              "color": "white"
             }
            },
            "type": "table"
           }
          ]
         },
         "layout": {
          "annotationdefaults": {
           "arrowcolor": "#2a3f5f",
           "arrowhead": 0,
           "arrowwidth": 1
          },
          "coloraxis": {
           "colorbar": {
            "outlinewidth": 0,
            "ticks": ""
           }
          },
          "colorscale": {
           "diverging": [
            [
             0,
             "#8e0152"
            ],
            [
             0.1,
             "#c51b7d"
            ],
            [
             0.2,
             "#de77ae"
            ],
            [
             0.3,
             "#f1b6da"
            ],
            [
             0.4,
             "#fde0ef"
            ],
            [
             0.5,
             "#f7f7f7"
            ],
            [
             0.6,
             "#e6f5d0"
            ],
            [
             0.7,
             "#b8e186"
            ],
            [
             0.8,
             "#7fbc41"
            ],
            [
             0.9,
             "#4d9221"
            ],
            [
             1,
             "#276419"
            ]
           ],
           "sequential": [
            [
             0,
             "#0d0887"
            ],
            [
             0.1111111111111111,
             "#46039f"
            ],
            [
             0.2222222222222222,
             "#7201a8"
            ],
            [
             0.3333333333333333,
             "#9c179e"
            ],
            [
             0.4444444444444444,
             "#bd3786"
            ],
            [
             0.5555555555555556,
             "#d8576b"
            ],
            [
             0.6666666666666666,
             "#ed7953"
            ],
            [
             0.7777777777777778,
             "#fb9f3a"
            ],
            [
             0.8888888888888888,
             "#fdca26"
            ],
            [
             1,
             "#f0f921"
            ]
           ],
           "sequentialminus": [
            [
             0,
             "#0d0887"
            ],
            [
             0.1111111111111111,
             "#46039f"
            ],
            [
             0.2222222222222222,
             "#7201a8"
            ],
            [
             0.3333333333333333,
             "#9c179e"
            ],
            [
             0.4444444444444444,
             "#bd3786"
            ],
            [
             0.5555555555555556,
             "#d8576b"
            ],
            [
             0.6666666666666666,
             "#ed7953"
            ],
            [
             0.7777777777777778,
             "#fb9f3a"
            ],
            [
             0.8888888888888888,
             "#fdca26"
            ],
            [
             1,
             "#f0f921"
            ]
           ]
          },
          "colorway": [
           "#636efa",
           "#EF553B",
           "#00cc96",
           "#ab63fa",
           "#FFA15A",
           "#19d3f3",
           "#FF6692",
           "#B6E880",
           "#FF97FF",
           "#FECB52"
          ],
          "font": {
           "color": "#2a3f5f"
          },
          "geo": {
           "bgcolor": "white",
           "lakecolor": "white",
           "landcolor": "#E5ECF6",
           "showlakes": true,
           "showland": true,
           "subunitcolor": "white"
          },
          "hoverlabel": {
           "align": "left"
          },
          "hovermode": "closest",
          "mapbox": {
           "style": "light"
          },
          "paper_bgcolor": "white",
          "plot_bgcolor": "#E5ECF6",
          "polar": {
           "angularaxis": {
            "gridcolor": "white",
            "linecolor": "white",
            "ticks": ""
           },
           "bgcolor": "#E5ECF6",
           "radialaxis": {
            "gridcolor": "white",
            "linecolor": "white",
            "ticks": ""
           }
          },
          "scene": {
           "xaxis": {
            "backgroundcolor": "#E5ECF6",
            "gridcolor": "white",
            "gridwidth": 2,
            "linecolor": "white",
            "showbackground": true,
            "ticks": "",
            "zerolinecolor": "white"
           },
           "yaxis": {
            "backgroundcolor": "#E5ECF6",
            "gridcolor": "white",
            "gridwidth": 2,
            "linecolor": "white",
            "showbackground": true,
            "ticks": "",
            "zerolinecolor": "white"
           },
           "zaxis": {
            "backgroundcolor": "#E5ECF6",
            "gridcolor": "white",
            "gridwidth": 2,
            "linecolor": "white",
            "showbackground": true,
            "ticks": "",
            "zerolinecolor": "white"
           }
          },
          "shapedefaults": {
           "line": {
            "color": "#2a3f5f"
           }
          },
          "ternary": {
           "aaxis": {
            "gridcolor": "white",
            "linecolor": "white",
            "ticks": ""
           },
           "baxis": {
            "gridcolor": "white",
            "linecolor": "white",
            "ticks": ""
           },
           "bgcolor": "#E5ECF6",
           "caxis": {
            "gridcolor": "white",
            "linecolor": "white",
            "ticks": ""
           }
          },
          "title": {
           "x": 0.05
          },
          "xaxis": {
           "automargin": true,
           "gridcolor": "white",
           "linecolor": "white",
           "ticks": "",
           "title": {
            "standoff": 15
           },
           "zerolinecolor": "white",
           "zerolinewidth": 2
          },
          "yaxis": {
           "automargin": true,
           "gridcolor": "white",
           "linecolor": "white",
           "ticks": "",
           "title": {
            "standoff": 15
           },
           "zerolinecolor": "white",
           "zerolinewidth": 2
          }
         }
        },
        "title": {
         "text": "Prototype Route"
        }
       }
      }
     },
     "metadata": {}
    }
   ],
   "source": [
    "\n",
    "\n",
    "\n",
    "\"\"\" PLOT SUBROTAS EXPANDIDAS\"\"\"\n",
    "\n",
    "\n",
    "\n",
    "#pontos da rota do grafo dos vertices\n",
    "fig = px.scatter_mapbox(df_route, lat=\"lat\", lon=\"lon\", color=\"index\",hover_name = 'extra_info2', title = 'Prototype Route', color_continuous_scale=px.colors.sequential.Viridis, size_max=15, zoom=11)\n",
    "\n",
    "#linha do mapa ,a partir dos nós ligados da subrota expandida\n",
    "fig.add_trace(go.Scattermapbox(\n",
    "    name = 'Route',\n",
    "    mode = \"lines\",\n",
    "    lon = df_route['lon'].to_list(),\n",
    "    lat = df_route['lat'].to_list(),\n",
    "    marker = {'size': 6}))\n",
    "\n",
    "\n",
    "fig.update_layout(\n",
    "    mapbox_style=\"streets\",\n",
    "    mapbox_layers=[\n",
    "        {\"below\": 'traces'}],\n",
    "    legend=dict(\n",
    "        yanchor=\"top\",\n",
    "        y=0.99,\n",
    "        xanchor=\"left\",\n",
    "        x=0.01\n",
    "    )\n",
    ")\n",
    "\n",
    "fig.layout.coloraxis.colorbar.title.text = \"Route Sequence\"\n",
    "\n",
    "fig.show()\n",
    "\n",
    "fig.write_html(fr\"map.html\")\n"
   ]
  },
  {
   "cell_type": "markdown",
   "metadata": {},
   "source": [
    "2 - Pool of routes to consider joining many routes. if Routes cross join routes.\n",
    "\n",
    "1.0 - Load coordinates of target and source, but will be more than 2 points.\n",
    "1.1 - Process the coordinates as a Shapely points instances.\n",
    "2.1 - Cluster points. - Not sure how yet, because we have geographic coordinates.\n",
    "1.2 - Define a polygon or polygons containing the shapes.\n",
    "1.3 - Download the graph that contains that polygon(s). Predefined if its car or walkable route \n",
    "1.4 - Define best order of nodes in route\n",
    "2.2 - Create a Shapely LineString, buffer for 300m and check intersection between routes\n",
    "2.3 - With the intersections\n",
    "2.3.1 - Replace old route with new route from source until intersection\n",
    "2.3.2 - Make a new route, from intersection, dividing trips in vehicles with 4 people capacity\n",
    "2.3.2.1 - Calculate Distance matrix - With my function\n",
    "2.3.2.2 - Redistribute routes with OR-Tools - With Route Optimization\n",
    "2.3.2.3 - Organize data - To be compatible with mongo database and MapBox.\n",
    "2.4 - Consolidate all in a dataframe. \n",
    "1.5 - Plot all routes in one unique MapBox.\n"
   ]
  }
 ]
}